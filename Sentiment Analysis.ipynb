{
 "cells": [
  {
   "cell_type": "markdown",
   "id": "7faf815f",
   "metadata": {},
   "source": [
    "# Sentiment Analysis"
   ]
  },
  {
   "cell_type": "markdown",
   "id": "b57ded6d",
   "metadata": {},
   "source": [
    "## Project summary\n",
    "\n",
    "In this project, a sentiment analysis of recent tweets is performed to evaluate if the overall emotion about a subject is negative or positive. The data is acumulated by web scraping 1000 recent tweets containing the terms 'covid', 'climate change' and 'crypto'. \n",
    "\n",
    "This analysis could be a starting point for a bussiness project interested in evaluating if clients are happy with your products and services in the Tweeter plataform. This information could be tracked over time to see if their sentiment are consistent over a certain period of time or if they change. It could also be useful to identify a category of customers who support your brand or product."
   ]
  },
  {
   "cell_type": "markdown",
   "id": "842111ff",
   "metadata": {},
   "source": [
    "## Useful libraries\n",
    "\n",
    "For this project we are going to use Tweetpy and spaCy libraries. More information on how to use them can be found in the links below: \n",
    "- https://docs.tweepy.org/en/stable/ \n",
    "- https://spacy.io/usage/spacy-101"
   ]
  },
  {
   "cell_type": "markdown",
   "id": "4ae20810",
   "metadata": {},
   "source": [
    "### Import libraries"
   ]
  },
  {
   "cell_type": "code",
   "execution_count": 52,
   "id": "42d464ee",
   "metadata": {},
   "outputs": [],
   "source": [
    "from dotenv import load_dotenv\n",
    "import matplotlib.pyplot as plt\n",
    "import os\n",
    "import pandas as pd\n",
    "import re\n",
    "import spacy\n",
    "from spacytextblob.spacytextblob import SpacyTextBlob\n",
    "from statistics import mean\n",
    "import tweepy"
   ]
  },
  {
   "cell_type": "markdown",
   "id": "d61aedc5",
   "metadata": {},
   "source": [
    "### Load environmental variables"
   ]
  },
  {
   "cell_type": "markdown",
   "id": "b703eee0",
   "metadata": {},
   "source": [
    "Twitter API uses OAuth, which is an open authorization protocol to authenticate requests that allows you to approve one application interacting with another on your behalf without giving away your password. You will need to create and configure your authentication credentials (KEY, SECRET) to access Twitter API. More instructions can be found here: https://towardsdatascience.com/how-to-access-twitters-api-using-tweepy-5a13a206683b\n",
    "\n",
    "I set my authentication credentials as environmental variables. More instructions can be found in the following link: https://nono.ma/environment-variable-python-notebook-os-environ-get"
   ]
  },
  {
   "cell_type": "code",
   "execution_count": 2,
   "id": "ff6183f0",
   "metadata": {},
   "outputs": [],
   "source": [
    "load_dotenv()\n",
    "KEY = os.environ.get('KEY')\n",
    "SECRET = os.environ.get('SECRET')"
   ]
  },
  {
   "cell_type": "markdown",
   "id": "da0a4df0",
   "metadata": {},
   "source": [
    "### Creating an OAuthHandler instance and API\n",
    "\n",
    "With my authentication credentials in hand, we can create an OAuthHandler instance and creates an api, that allows us to use tools that can be used for example to search information in the tweeter plataform. "
   ]
  },
  {
   "cell_type": "code",
   "execution_count": 3,
   "id": "7c7a93b2",
   "metadata": {},
   "outputs": [],
   "source": [
    "auth = tweepy.OAuthHandler(KEY, SECRET)\n",
    "api = tweepy.API(auth)"
   ]
  },
  {
   "cell_type": "markdown",
   "id": "a5b45964",
   "metadata": {},
   "source": [
    "### Searching Tweets with a subject 'query'\n",
    "\n",
    "The function *search_tweets* searches for a word or expression in an assemble of tweets. It has two arguments: *query* (the subject we want to look for) and *max_tweets* (the max number of tweets). "
   ]
  },
  {
   "cell_type": "code",
   "execution_count": 4,
   "id": "eedb0ffc",
   "metadata": {},
   "outputs": [],
   "source": [
    "def search_tweets(query, max_tweets):\n",
    "    return [status for status in tweepy.Cursor(api.search_tweets, q=query,lang='en',result_type='recent').items(max_tweets)]\n",
    "    "
   ]
  },
  {
   "cell_type": "markdown",
   "id": "f4e02f2b",
   "metadata": {},
   "source": [
    "### Defining functions to help access data \n",
    "\n",
    "The function *extract_data* has a single argument *data* and returns a dictionary with the information of each tweet.\n",
    "\n",
    "The function *extract_data_helper* returns a set with all the extracted data information."
   ]
  },
  {
   "cell_type": "code",
   "execution_count": 5,
   "id": "4434e74a",
   "metadata": {},
   "outputs": [],
   "source": [
    "def extract_data(data):\n",
    "    '''\n",
    "    Function: extract_data(data) \n",
    "        - data argument is the output of api.search_tweets\n",
    "        - returns data in a easy format \n",
    "    '''\n",
    "    return{\n",
    "        \"created_at\": data.get(\"created_at\",None),\n",
    "        \"id\": data.get(\"id\",None),\n",
    "        \"text\": data.get(\"text\",None),\n",
    "        \"language\": data.get(\"lang\",None),\n",
    "        \"retweet_count\":data.get(\"retweet_count\",None)        \n",
    "    }\n",
    "def extract_data_helper(dataList):\n",
    "    return (extract_data(data._json) for data in dataList)"
   ]
  },
  {
   "cell_type": "markdown",
   "id": "c24978aa",
   "metadata": {},
   "source": [
    "### Transforming into a dataframe\n",
    "\n",
    "*get_dataframe* function extract the tweets and transforms the data into a pandas dataframe object."
   ]
  },
  {
   "cell_type": "code",
   "execution_count": 6,
   "id": "254566d3",
   "metadata": {},
   "outputs": [],
   "source": [
    "def get_dataframe(subject, num_tweets):\n",
    "    data = extract_data_helper(search_tweets(subject,num_tweets))\n",
    "    df = pd.DataFrame(data)\n",
    "    df = df.sort_values(by='retweet_count',ascending=False).reset_index(drop=True)\n",
    "    return df"
   ]
  },
  {
   "cell_type": "markdown",
   "id": "ee64d874",
   "metadata": {},
   "source": [
    "### Analysing sentiment\n",
    "\n",
    "First step to the sentiment analysis is to remove symbols or set of characters such as 'RT @username' that are not relevant in the analysis. The function *clean_tweet* does exactly that.\n",
    "\n",
    "The function *analysing_sentiment* has a single argument - a dataframe - and returns a list containing information on how positive or negative a tweet is. Each tweet is processed by a pipeline that generates a Doc object (more info: https://spacy.io/usage/processing-pipelines) which the polarity can be obtained by *doc._.polarity*. The value returned is a float number ranging between -1 (extremely negative) and 1 (extremely positive). "
   ]
  },
  {
   "cell_type": "code",
   "execution_count": 20,
   "id": "ac8dbba4",
   "metadata": {},
   "outputs": [],
   "source": [
    "# Load the default trained pipeline package 'en_core_web_sm' from within spaCy. \n",
    "# It is a small English pipeline trained on written web text (blogs, news, comments), \n",
    "# that includes vocabulary, syntax and entities.\n",
    "nlp = spacy.load('en_core_web_sm')\n",
    "\n",
    "# spaCyTextBlob is a pipeline component that enables sentiment analysis\n",
    "nlp.add_pipe('spacytextblob')\n",
    "\n",
    "def clean_tweet(text):\n",
    "    clean_text = re.sub(r'([.?!,:;\"\\'…])|(RT @\\w+ )|(@\\w+ )]', '', text)\n",
    "    return clean_text\n",
    "\n",
    "\n",
    "def analysing_sentiment(dataframe):\n",
    "    polarity = []\n",
    "    # loop in tweets\n",
    "    for tweet in dataframe.text:        \n",
    "        tweet1 = clean_tweet(tweet)\n",
    "        # processing pipeline\n",
    "        doc = nlp(tweet1)\n",
    "        if doc._.polarity != 0.0:\n",
    "            polarity.append(doc._.polarity)\n",
    "    return polarity"
   ]
  },
  {
   "cell_type": "markdown",
   "id": "acb3a8af",
   "metadata": {},
   "source": [
    "### Plot sentiment summary"
   ]
  },
  {
   "cell_type": "markdown",
   "id": "f20e8a64",
   "metadata": {},
   "source": [
    "*plot_sentiment* function returns a histogram with the overall polarity values returned from 1000 tweets."
   ]
  },
  {
   "cell_type": "code",
   "execution_count": 71,
   "id": "0ddd7333",
   "metadata": {},
   "outputs": [],
   "source": [
    "def plot_sentiment(polarity, subject):\n",
    "    avg = mean(polarity)\n",
    "    plt.hist(polarity,bins=[x / 10.0 for x in range(-10, 12, 2)], label=f'$\\mu$={round(avg,2)}', range=(-1,1))\n",
    "    plt.xlabel('Number of tweets')\n",
    "    plt.xlabel('Polarity')\n",
    "    plt.title(f'Sentiment of Tweets on {subject}')\n",
    "    plt.legend()\n",
    "    plt.show()"
   ]
  },
  {
   "cell_type": "markdown",
   "id": "31d6e3c7",
   "metadata": {},
   "source": [
    "### Results for different subjects"
   ]
  },
  {
   "cell_type": "markdown",
   "id": "9c38013f",
   "metadata": {},
   "source": [
    "#### Covid\n",
    "Let's analyse the sentiment for the word 'covid' considering a number maximum of tweets . "
   ]
  },
  {
   "cell_type": "code",
   "execution_count": 72,
   "id": "3e0d45c3",
   "metadata": {},
   "outputs": [
    {
     "data": {
      "image/png": "[encoded data removed]",
      "text/plain": [
       "<Figure size 432x288 with 1 Axes>"
      ]
     },
     "metadata": {
      "needs_background": "light"
     },
     "output_type": "display_data"
    }
   ],
   "source": [
    "df = get_dataframe('covid -filter:retweets', 1000)\n",
    "df = df.drop_duplicates()\n",
    "polarity = analysing_sentiment(df)\n",
    "plot_sentiment(polarity,'Covid')"
   ]
  },
  {
   "cell_type": "markdown",
   "id": "a81300a3",
   "metadata": {},
   "source": [
    "The average value for the polarity for the 1000 tweets containing the word 'covid' is 0.11 meaning it is slightly positive but close to neutral sentiment."
   ]
  },
  {
   "cell_type": "markdown",
   "id": "bad5b6cd",
   "metadata": {},
   "source": [
    "#### Climate change"
   ]
  },
  {
   "cell_type": "code",
   "execution_count": 77,
   "id": "7f849a1c",
   "metadata": {},
   "outputs": [
    {
     "data": {
      "image/png": "[encoded data removed]",
      "text/plain": [
       "<Figure size 432x288 with 1 Axes>"
      ]
     },
     "metadata": {
      "needs_background": "light"
     },
     "output_type": "display_data"
    }
   ],
   "source": [
    "df = get_dataframe('climate change -filter:retweets', 1000)\n",
    "df = df.drop_duplicates()\n",
    "polarity = analysing_sentiment(df)\n",
    "plot_sentiment(polarity,'Climate Change')"
   ]
  },
  {
   "cell_type": "markdown",
   "id": "745efc4f",
   "metadata": {},
   "source": [
    "The average value for the polarity for the 1000 tweets containing the expression 'climate ghange' is 0.1 meaning it is slightly positive but close to neutral sentiment."
   ]
  },
  {
   "cell_type": "markdown",
   "id": "b21ed630",
   "metadata": {},
   "source": [
    "#### Crypto"
   ]
  },
  {
   "cell_type": "code",
   "execution_count": 81,
   "id": "557ad13a",
   "metadata": {},
   "outputs": [
    {
     "data": {
      "image/png": "[encoded data removed]",
      "text/plain": [
       "<Figure size 432x288 with 1 Axes>"
      ]
     },
     "metadata": {
      "needs_background": "light"
     },
     "output_type": "display_data"
    }
   ],
   "source": [
    "df = get_dataframe('crypto -filter:retweets', 1000)\n",
    "df = df.drop_duplicates()\n",
    "polarity = analysing_sentiment(df)\n",
    "plot_sentiment(polarity,'Crypto')"
   ]
  },
  {
   "cell_type": "markdown",
   "id": "734aecbe",
   "metadata": {},
   "source": [
    "The average value for the polarity for the 1000 tweets containing the expression 'crypto' is 0.29 meaning it has a more positive sentiment."
   ]
  },
  {
   "cell_type": "markdown",
   "id": "a29f073d",
   "metadata": {},
   "source": [
    "## Conclusions and insights"
   ]
  },
  {
   "cell_type": "markdown",
   "id": "ef035165",
   "metadata": {},
   "source": [
    "Sentiment analysis is a very powerful tool to undertand how much positive or negative emotions are attached to a certain subject. It can be used to add value to a company interested in investigating how its customers evaluate a product or a service they offer. This analysis can be used for product/service reviews from customers for example. "
   ]
  }
 ],
 "metadata": {
  "kernelspec": {
   "display_name": "Python 3 (ipykernel)",
   "language": "python",
   "name": "python3"
  },
  "language_info": {
   "codemirror_mode": {
    "name": "ipython",
    "version": 3
   },
   "file_extension": ".py",
   "mimetype": "text/x-python",
   "name": "python",
   "nbconvert_exporter": "python",
   "pygments_lexer": "ipython3",
   "version": "3.8.5"
  }
 },
 "nbformat": 4,
 "nbformat_minor": 5
}

{
 "cells": [
  {
   "cell_type": "markdown",
   "id": "4ae20810",
   "metadata": {},
   "source": [
    "### Import libraries"
   ]
  },
  {
   "cell_type": "code",
   "execution_count": 320,
   "id": "42d464ee",
   "metadata": {},
   "outputs": [],
   "source": [
    "from dotenv import load_dotenv\n",
    "import matplotlib.pyplot as plt\n",
    "import os\n",
    "import pandas as pd\n",
    "import spacy\n",
    "from textblob import TextBlob\n",
    "import tweepy"
   ]
  },
  {
   "cell_type": "markdown",
   "id": "d61aedc5",
   "metadata": {},
   "source": [
    "### Load environmental variables"
   ]
  },
  {
   "cell_type": "markdown",
   "id": "b703eee0",
   "metadata": {},
   "source": [
    "Link: https://nono.ma/environment-variable-python-notebook-os-environ-get"
   ]
  },
  {
   "cell_type": "code",
   "execution_count": 2,
   "id": "ff6183f0",
   "metadata": {},
   "outputs": [],
   "source": [
    "load_dotenv()\n",
    "KEY = os.environ.get('KEY')\n",
    "SECRET = os.environ.get('SECRET')"
   ]
  },
  {
   "cell_type": "markdown",
   "id": "da0a4df0",
   "metadata": {},
   "source": [
    "### Creating an OAuthHandler instance and API"
   ]
  },
  {
   "cell_type": "code",
   "execution_count": 121,
   "id": "7c7a93b2",
   "metadata": {},
   "outputs": [],
   "source": [
    "auth = tweepy.OAuthHandler(KEY, SECRET)\n",
    "api = tweepy.API(auth)"
   ]
  },
  {
   "cell_type": "markdown",
   "id": "a5b45964",
   "metadata": {},
   "source": [
    "### Searching Tweets with a subject 'query'"
   ]
  },
  {
   "cell_type": "code",
   "execution_count": 136,
   "id": "eedb0ffc",
   "metadata": {},
   "outputs": [],
   "source": [
    "def search_tweets(query, max_tweets):\n",
    "    return [status for status in tweepy.Cursor(api.search_tweets, q=query,lang='en',result_type='recent').items(max_tweets)]\n",
    "    "
   ]
  },
  {
   "cell_type": "markdown",
   "id": "f4e02f2b",
   "metadata": {},
   "source": [
    "### Defining functions to help access data "
   ]
  },
  {
   "cell_type": "code",
   "execution_count": 105,
   "id": "4434e74a",
   "metadata": {},
   "outputs": [],
   "source": [
    "def extract_data(data):\n",
    "    '''\n",
    "    Function: extract_data(data) \n",
    "        - data argument is the output of api.search_tweets\n",
    "        - returns data in a easy format \n",
    "    '''\n",
    "    return{\n",
    "        \"created_at\": data.get(\"created_at\",None),\n",
    "        \"id\": data.get(\"id\",None),\n",
    "        \"text\": data.get(\"text\",None),\n",
    "        \"language\": data.get(\"lang\",None),\n",
    "        \"retweet_count\":data.get(\"retweet_count\",None)        \n",
    "    }\n",
    "def extract_data_helper(dataList):\n",
    "    return (extract_data(data._json) for data in dataList)"
   ]
  },
  {
   "cell_type": "markdown",
   "id": "c24978aa",
   "metadata": {},
   "source": [
    "### Extracting tweets and transforming them into a dataframe"
   ]
  },
  {
   "cell_type": "code",
   "execution_count": 150,
   "id": "254566d3",
   "metadata": {},
   "outputs": [],
   "source": [
    "def get_dataframe(subject, num_tweets):\n",
    "    data = extract_data_helper(search_tweets(subject,num_tweets))\n",
    "    df = pd.DataFrame(data)\n",
    "    df = df.sort_values(by='retweet_count',ascending=False).reset_index(drop=True)\n",
    "    return df"
   ]
  },
  {
   "cell_type": "markdown",
   "id": "ee64d874",
   "metadata": {},
   "source": [
    "### Function to analyse sentiment for each tweet"
   ]
  },
  {
   "cell_type": "code",
   "execution_count": 297,
   "id": "ac8dbba4",
   "metadata": {},
   "outputs": [],
   "source": [
    "nlp = spacy.load('en_core_web_sm')\n",
    "nlp.add_pipe('spacytextblob')\n",
    "\n",
    "def clean_tweet(text):\n",
    "    clean_text = re.sub(r'([.?!,:;\"\\'…])|(RT @\\w+ )|(@\\w+ )]', '', text)\n",
    "    return clean_text\n",
    "\n",
    "\n",
    "def analysing_sentiment(dataframe):\n",
    "    polarity = []\n",
    "    for tweet in dataframe.text:        \n",
    "        tweet1 = clean_tweet(tweet)\n",
    "        doc = nlp(tweet1)\n",
    "        if doc._.polarity != 0.0:\n",
    "            polarity.append(doc._.polarity)\n",
    "    return polarity"
   ]
  },
  {
   "cell_type": "code",
   "execution_count": 295,
   "id": "7661a4bf",
   "metadata": {},
   "outputs": [
    {
     "name": "stdout",
     "output_type": "stream",
     "text": [
      "oi That\n"
     ]
    }
   ],
   "source": [
    "print(re.sub(r'(RE )|(@\\w+ )', '','oi RE @22_merri @w_white18 @NathanMackBrown @Bellamy11111 That'))"
   ]
  },
  {
   "cell_type": "markdown",
   "id": "acb3a8af",
   "metadata": {},
   "source": [
    "### Function to plot sentiment summary"
   ]
  },
  {
   "cell_type": "code",
   "execution_count": 181,
   "id": "0e75d843",
   "metadata": {},
   "outputs": [],
   "source": []
  },
  {
   "cell_type": "code",
   "execution_count": 315,
   "id": "0ddd7333",
   "metadata": {},
   "outputs": [],
   "source": [
    "def plot_sentiment(polarity, subject):    \n",
    "    plt.hist(polarity,bins=[-1, -0.75, -0.5, -0.25, 0, 0.25, 0.5, 0.75, 1])\n",
    "    plt.xlabel('Polarity')\n",
    "    plt.title(f'Sentiment of Tweets on {subject}')\n",
    "    plt.show()"
   ]
  },
  {
   "cell_type": "markdown",
   "id": "31d6e3c7",
   "metadata": {},
   "source": [
    "### Getting tweets and ploting results for different subjects"
   ]
  },
  {
   "cell_type": "markdown",
   "id": "9c38013f",
   "metadata": {},
   "source": [
    "#### Covid"
   ]
  },
  {
   "cell_type": "code",
   "execution_count": 316,
   "id": "3e0d45c3",
   "metadata": {},
   "outputs": [
    {
     "data": {
      "image/png": "[encoded data removed]",
      "text/plain": [
       "<Figure size 432x288 with 1 Axes>"
      ]
     },
     "metadata": {
      "needs_background": "light"
     },
     "output_type": "display_data"
    }
   ],
   "source": [
    "df = get_dataframe('covid -filter:retweets', 1000)\n",
    "df = df.drop_duplicates()\n",
    "polarity = analysing_sentiment(df)\n",
    "plot_sentiment(polarity,'Covid')"
   ]
  },
  {
   "cell_type": "markdown",
   "id": "bad5b6cd",
   "metadata": {},
   "source": [
    "#### Climate change"
   ]
  },
  {
   "cell_type": "code",
   "execution_count": 319,
   "id": "7f849a1c",
   "metadata": {},
   "outputs": [
    {
     "data": {
      "image/png": "[encoded data removed]",
      "text/plain": [
       "<Figure size 432x288 with 1 Axes>"
      ]
     },
     "metadata": {
      "needs_background": "light"
     },
     "output_type": "display_data"
    }
   ],
   "source": [
    "df = get_dataframe('climate change -filter:retweets', 1000)\n",
    "df = df.drop_duplicates()\n",
    "polarity = analysing_sentiment(df)\n",
    "plot_sentiment(polarity,'Climate Change')"
   ]
  },
  {
   "cell_type": "markdown",
   "id": "b21ed630",
   "metadata": {},
   "source": [
    "#### Cripto"
   ]
  },
  {
   "cell_type": "code",
   "execution_count": 318,
   "id": "557ad13a",
   "metadata": {},
   "outputs": [
    {
     "data": {
      "image/png": "[encoded data removed]",
      "text/plain": [
       "<Figure size 432x288 with 1 Axes>"
      ]
     },
     "metadata": {
      "needs_background": "light"
     },
     "output_type": "display_data"
    }
   ],
   "source": [
    "df = get_dataframe('cripto -filter:retweets', 1000)\n",
    "df = df.drop_duplicates()\n",
    "polarity = analysing_sentiment(df)\n",
    "plot_sentiment(polarity,'Cripto')"
   ]
  },
  {
   "cell_type": "code",
   "execution_count": null,
   "id": "c9125677",
   "metadata": {},
   "outputs": [],
   "source": []
  }
 ],
 "metadata": {
  "kernelspec": {
   "display_name": "Python 3 (ipykernel)",
   "language": "python",
   "name": "python3"
  },
  "language_info": {
   "codemirror_mode": {
    "name": "ipython",
    "version": 3
   },
   "file_extension": ".py",
   "mimetype": "text/x-python",
   "name": "python",
   "nbconvert_exporter": "python",
   "pygments_lexer": "ipython3",
   "version": "3.8.5"
  }
 },
 "nbformat": 4,
 "nbformat_minor": 5
}
